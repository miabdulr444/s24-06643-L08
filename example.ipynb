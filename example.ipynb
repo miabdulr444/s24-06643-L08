{
 "cells": [
  {
   "cell_type": "code",
   "execution_count": 1,
   "metadata": {},
   "outputs": [
    {
     "data": {
      "text/markdown": [
       "[John R. Kitchin](https://openalex.org/A5003442464), *Examples of Effective Data Sharing in Scientific Publishing*, **[ACS Catalysis](https://openalex.org/S37391459)**, 5, 63894-3899, (2015), https://doi.org/10.1021/acscatal.5b00538. cited by: 19. [Open Alex](https://openalex.org/W2288114809)<br>![img](data:image/png;base64,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)"
      ],
      "text/plain": [
       "John R. Kitchin, Examples of Effective Data Sharing in Scientific Publishing, 5, 63894-3899, (2015), https://doi.org/10.1021/acscatal.5b00538. cited by: 19. https://openalex.org/W2288114809"
      ]
     },
     "execution_count": 1,
     "metadata": {},
     "output_type": "execute_result"
    }
   ],
   "source": [
    "from s23oa import Works\n",
    "\n",
    "w = Works(\"https://doi.org/10.1021/acscatal.5b00538\")\n",
    "w"
   ]
  },
  {
   "cell_type": "code",
   "execution_count": 2,
   "metadata": {},
   "outputs": [
    {
     "data": {
      "text/html": [
       "<pre>TY  - JOUR\n",
       "AU  - John R. Kitchin\n",
       "PY  - 2015\n",
       "TI  - Examples of Effective Data Sharing in Scientific Publishing\n",
       "JO  - ACS Catalysis\n",
       "VL  - 5\n",
       "IS  - 6\n",
       "SP  - 3894\n",
       "EP  - 3899\n",
       "DO  - https://doi.org/10.1021/acscatal.5b00538\n",
       "ER  -</pre><br><a href=\"data:text/plain;base64,VFkgIC0gSk9VUgpBVSAgLSBKb2huIFIuIEtpdGNoaW4KUFkgIC0gMjAxNQpUSSAgLSBFeGFtcGxlcyBvZiBFZmZlY3RpdmUgRGF0YSBTaGFyaW5nIGluIFNjaWVudGlmaWMgUHVibGlzaGluZwpKTyAgLSBBQ1MgQ2F0YWx5c2lzClZMICAtIDUKSVMgIC0gNgpTUCAgLSAzODk0CkVQICAtIDM4OTkKRE8gIC0gaHR0cHM6Ly9kb2kub3JnLzEwLjEwMjEvYWNzY2F0YWwuNWIwMDUzOApFUiAgLQ==\" download=\"ris\">Download RIS</a>"
      ],
      "text/plain": [
       "<IPython.core.display.HTML object>"
      ]
     },
     "metadata": {},
     "output_type": "display_data"
    },
    {
     "data": {
      "text/plain": [
       "'TY  - JOUR\\nAU  - John R. Kitchin\\nPY  - 2015\\nTI  - Examples of Effective Data Sharing in Scientific Publishing\\nJO  - ACS Catalysis\\nVL  - 5\\nIS  - 6\\nSP  - 3894\\nEP  - 3899\\nDO  - https://doi.org/10.1021/acscatal.5b00538\\nER  -'"
      ]
     },
     "execution_count": 2,
     "metadata": {},
     "output_type": "execute_result"
    }
   ],
   "source": [
    "w.ris"
   ]
  },
  {
   "cell_type": "code",
   "execution_count": null,
   "metadata": {},
   "outputs": [],
   "source": []
  }
 ],
 "metadata": {
  "kernelspec": {
   "display_name": "Python 3",
   "language": "python",
   "name": "python3"
  },
  "language_info": {
   "codemirror_mode": {
    "name": "ipython",
    "version": 3
   },
   "file_extension": ".py",
   "mimetype": "text/x-python",
   "name": "python",
   "nbconvert_exporter": "python",
   "pygments_lexer": "ipython3",
   "version": "3.9.7"
  }
 },
 "nbformat": 4,
 "nbformat_minor": 4
}
